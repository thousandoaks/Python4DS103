{
  "metadata": {
    "orig_nbformat": 4,
    "language_info": {
      "name": "python",
      "version": "3.7.12",
      "mimetype": "text/x-python",
      "codemirror_mode": {
        "name": "ipython",
        "version": 3
      },
      "pygments_lexer": "ipython3",
      "nbconvert_exporter": "python",
      "file_extension": ".py"
    },
    "kernelspec": {
      "name": "python3",
      "display_name": "Python 3 (ipykernel)",
      "language": "python"
    },
    "colab": {
      "provenance": [],
      "include_colab_link": true
    }
  },
  "nbformat_minor": 5,
  "nbformat": 4,
  "cells": [
    {
      "cell_type": "markdown",
      "metadata": {
        "id": "view-in-github",
        "colab_type": "text"
      },
      "source": [
        "<a href=\"https://colab.research.google.com/github/thousandoaks/Python4DS103/blob/main/labs/Reading_Writing_Data.ipynb\" target=\"_parent\"><img src=\"https://colab.research.google.com/assets/colab-badge.svg\" alt=\"Open In Colab\"/></a>"
      ]
    },
    {
      "cell_type": "markdown",
      "source": [
        "# Reading and Writing Data Lab"
      ],
      "metadata": {
        "id": "8bc02fc9-2e7b-4ad3-99af-63d473b23430"
      },
      "id": "8bc02fc9-2e7b-4ad3-99af-63d473b23430"
    },
    {
      "cell_type": "markdown",
      "source": [
        "### This lab introduces the idea of “persistent” programs that keep data in permanent storage, and shows how to use different kinds of permanent storage, like files."
      ],
      "metadata": {
        "id": "3ccbbf92-0be9-4ef6-abc6-7d0a293f637b"
      },
      "id": "3ccbbf92-0be9-4ef6-abc6-7d0a293f637b"
    },
    {
      "cell_type": "markdown",
      "source": [
        "### This lab will cover:\n",
        "1. Filenames and paths\n",
        "2. Reading and Writing CSV files using Pandas\n",
        "3. Reading and Writing binary files using Pandas\n"
      ],
      "metadata": {
        "id": "c754888c-003c-4cdb-9ce3-fdcc4d5054bf"
      },
      "id": "c754888c-003c-4cdb-9ce3-fdcc4d5054bf"
    },
    {
      "cell_type": "markdown",
      "source": [
        "## 1. Persistence\n",
        "\n"
      ],
      "metadata": {
        "id": "6f6bbfa5-05ca-45da-8b3d-9b98eff0919c"
      },
      "id": "6f6bbfa5-05ca-45da-8b3d-9b98eff0919c"
    },
    {
      "cell_type": "markdown",
      "source": [
        "#### Most of the programs we have seen so far are transient in the sense that they run for a short time and produce some output, but when they end, their data disappears. If you run the program again, it starts with a clean slate.\n",
        "\n",
        "#### Other programs are persistent: they run for a long time (or all the time); they keep at least some of their data in permanent storage (a hard drive, for example); and if they shut down and restart, they pick up where they left off.\n",
        "\n",
        "#### Examples of persistent programs are operating systems, which run pretty much whenever a computer is on, and web servers, which run all the time, waiting for requests to come in on the network.\n",
        "\n",
        "#### One of the simplest ways for programs to maintain their data is by reading and writing text files. We have already seen programs that read text files; in this chapter we will see programs that write them.\n",
        "\n",
        "#### An alternative is to store the state of the program in a database. In this lab we will learn about a module, pickle, that makes it easy to store program data."
      ],
      "metadata": {
        "id": "3d6f572f-b799-4072-b4c3-68575e0bb06a"
      },
      "id": "3d6f572f-b799-4072-b4c3-68575e0bb06a"
    },
    {
      "cell_type": "code",
      "source": [],
      "metadata": {
        "id": "9aa74ed9-01ea-4f67-a222-f5649c67e3c6"
      },
      "execution_count": null,
      "outputs": [],
      "id": "9aa74ed9-01ea-4f67-a222-f5649c67e3c6"
    },
    {
      "cell_type": "markdown",
      "source": [
        "## 2. Filenames and paths\n",
        "\n",
        "#### Files are organized into directories (also called “folders”). Every running program has a “current directory”, which is the default directory for most operations. For example, when you open a file for reading, Python looks for it in the current directory.\n",
        "\n",
        "#### The os module provides functions for working with files and directories (“os” stands for “operating system”). os.getcwd returns the name of the current directory:"
      ],
      "metadata": {
        "id": "685aad5b-9137-48a9-85eb-60c6ccf36ca1"
      },
      "id": "685aad5b-9137-48a9-85eb-60c6ccf36ca1"
    },
    {
      "cell_type": "code",
      "source": [
        "import os\n",
        "cwd = os.getcwd()\n"
      ],
      "metadata": {
        "trusted": true,
        "id": "3e5e6271-cdef-418a-b3a6-dee86478afe1"
      },
      "execution_count": 3,
      "outputs": [],
      "id": "3e5e6271-cdef-418a-b3a6-dee86478afe1"
    },
    {
      "cell_type": "code",
      "source": [
        "cwd"
      ],
      "metadata": {
        "trusted": true,
        "id": "141f51ef-1bc1-447f-a4b5-8e682cb2b06d",
        "outputId": "34142623-9a8d-4a6d-d8b9-f9c5df6181c7",
        "colab": {
          "base_uri": "https://localhost:8080/",
          "height": 35
        }
      },
      "execution_count": 4,
      "outputs": [
        {
          "output_type": "execute_result",
          "data": {
            "text/plain": [
              "'/content'"
            ],
            "application/vnd.google.colaboratory.intrinsic+json": {
              "type": "string"
            }
          },
          "metadata": {},
          "execution_count": 4
        }
      ],
      "id": "141f51ef-1bc1-447f-a4b5-8e682cb2b06d"
    },
    {
      "cell_type": "markdown",
      "source": [
        "#### cwd stands for “current working directory”. The result in this example is '/content', which is the current directory being used by this lab."
      ],
      "metadata": {
        "id": "4704c0bc-38b7-4b67-b148-578d1bb7579f"
      },
      "id": "4704c0bc-38b7-4b67-b148-578d1bb7579f"
    },
    {
      "cell_type": "markdown",
      "source": [
        "## 3. Reading and writing CSV files with Pandas"
      ],
      "metadata": {
        "id": "99323bd8-f498-42c2-98bc-1474782c2486"
      },
      "id": "99323bd8-f498-42c2-98bc-1474782c2486"
    },
    {
      "cell_type": "code",
      "source": [],
      "metadata": {
        "id": "G67uWJC4O9cP"
      },
      "id": "G67uWJC4O9cP",
      "execution_count": null,
      "outputs": []
    },
    {
      "cell_type": "code",
      "source": [],
      "metadata": {
        "id": "ANyi5RvHO9aC"
      },
      "id": "ANyi5RvHO9aC",
      "execution_count": null,
      "outputs": []
    },
    {
      "cell_type": "code",
      "source": [],
      "metadata": {
        "id": "fxc0pxcFO9Xo"
      },
      "id": "fxc0pxcFO9Xo",
      "execution_count": null,
      "outputs": []
    },
    {
      "cell_type": "code",
      "source": [],
      "metadata": {
        "id": "vDhQ13tGO9VF"
      },
      "id": "vDhQ13tGO9VF",
      "execution_count": null,
      "outputs": []
    },
    {
      "cell_type": "code",
      "source": [],
      "metadata": {
        "id": "qvnvhcE4O9SZ"
      },
      "id": "qvnvhcE4O9SZ",
      "execution_count": null,
      "outputs": []
    },
    {
      "cell_type": "markdown",
      "source": [
        "#### A text file is a sequence of characters stored on a permanent medium like a hard drive, flash memory, or CD-ROM. \n",
        "#### To open an existing file using Pandas we use the method read_csv\n",
        "#### For instance, given the file \"covid19_cases.csv\" stored in the local folder \"../data/\":\n"
      ],
      "metadata": {
        "id": "69676ee9-da69-4e9f-a548-2b8e27f67a30"
      },
      "id": "69676ee9-da69-4e9f-a548-2b8e27f67a30"
    },
    {
      "cell_type": "code",
      "source": [
        "import pandas as pd"
      ],
      "metadata": {
        "trusted": true,
        "id": "11ff78b7-8900-45a0-a98d-00d60d04664d"
      },
      "execution_count": 5,
      "outputs": [],
      "id": "11ff78b7-8900-45a0-a98d-00d60d04664d"
    },
    {
      "cell_type": "code",
      "source": [
        "covidLongFormatDataFrame = pd.read_csv('./covid19_cases.csv')"
      ],
      "metadata": {
        "trusted": true,
        "id": "639be40d-ec3f-434b-91c7-55350414dfb6",
        "colab": {
          "base_uri": "https://localhost:8080/",
          "height": 336
        },
        "outputId": "95878d4e-e3e5-41c4-af81-1eb399acc498"
      },
      "execution_count": 9,
      "outputs": [
        {
          "output_type": "error",
          "ename": "FileNotFoundError",
          "evalue": "ignored",
          "traceback": [
            "\u001b[0;31m---------------------------------------------------------------------------\u001b[0m",
            "\u001b[0;31mFileNotFoundError\u001b[0m                         Traceback (most recent call last)",
            "\u001b[0;32m<ipython-input-9-ab17a1fb89f1>\u001b[0m in \u001b[0;36m<module>\u001b[0;34m\u001b[0m\n\u001b[0;32m----> 1\u001b[0;31m \u001b[0mcovidLongFormatDataFrame\u001b[0m \u001b[0;34m=\u001b[0m \u001b[0mpd\u001b[0m\u001b[0;34m.\u001b[0m\u001b[0mread_csv\u001b[0m\u001b[0;34m(\u001b[0m\u001b[0;34m'./covid19_cases.csv'\u001b[0m\u001b[0;34m)\u001b[0m\u001b[0;34m\u001b[0m\u001b[0;34m\u001b[0m\u001b[0m\n\u001b[0m",
            "\u001b[0;32m/usr/local/lib/python3.7/dist-packages/pandas/util/_decorators.py\u001b[0m in \u001b[0;36mwrapper\u001b[0;34m(*args, **kwargs)\u001b[0m\n\u001b[1;32m    309\u001b[0m                     \u001b[0mstacklevel\u001b[0m\u001b[0;34m=\u001b[0m\u001b[0mstacklevel\u001b[0m\u001b[0;34m,\u001b[0m\u001b[0;34m\u001b[0m\u001b[0;34m\u001b[0m\u001b[0m\n\u001b[1;32m    310\u001b[0m                 )\n\u001b[0;32m--> 311\u001b[0;31m             \u001b[0;32mreturn\u001b[0m \u001b[0mfunc\u001b[0m\u001b[0;34m(\u001b[0m\u001b[0;34m*\u001b[0m\u001b[0margs\u001b[0m\u001b[0;34m,\u001b[0m \u001b[0;34m**\u001b[0m\u001b[0mkwargs\u001b[0m\u001b[0;34m)\u001b[0m\u001b[0;34m\u001b[0m\u001b[0;34m\u001b[0m\u001b[0m\n\u001b[0m\u001b[1;32m    312\u001b[0m \u001b[0;34m\u001b[0m\u001b[0m\n\u001b[1;32m    313\u001b[0m         \u001b[0;32mreturn\u001b[0m \u001b[0mwrapper\u001b[0m\u001b[0;34m\u001b[0m\u001b[0;34m\u001b[0m\u001b[0m\n",
            "\u001b[0;32m/usr/local/lib/python3.7/dist-packages/pandas/io/parsers/readers.py\u001b[0m in \u001b[0;36mread_csv\u001b[0;34m(filepath_or_buffer, sep, delimiter, header, names, index_col, usecols, squeeze, prefix, mangle_dupe_cols, dtype, engine, converters, true_values, false_values, skipinitialspace, skiprows, skipfooter, nrows, na_values, keep_default_na, na_filter, verbose, skip_blank_lines, parse_dates, infer_datetime_format, keep_date_col, date_parser, dayfirst, cache_dates, iterator, chunksize, compression, thousands, decimal, lineterminator, quotechar, quoting, doublequote, escapechar, comment, encoding, encoding_errors, dialect, error_bad_lines, warn_bad_lines, on_bad_lines, delim_whitespace, low_memory, memory_map, float_precision, storage_options)\u001b[0m\n\u001b[1;32m    584\u001b[0m     \u001b[0mkwds\u001b[0m\u001b[0;34m.\u001b[0m\u001b[0mupdate\u001b[0m\u001b[0;34m(\u001b[0m\u001b[0mkwds_defaults\u001b[0m\u001b[0;34m)\u001b[0m\u001b[0;34m\u001b[0m\u001b[0;34m\u001b[0m\u001b[0m\n\u001b[1;32m    585\u001b[0m \u001b[0;34m\u001b[0m\u001b[0m\n\u001b[0;32m--> 586\u001b[0;31m     \u001b[0;32mreturn\u001b[0m \u001b[0m_read\u001b[0m\u001b[0;34m(\u001b[0m\u001b[0mfilepath_or_buffer\u001b[0m\u001b[0;34m,\u001b[0m \u001b[0mkwds\u001b[0m\u001b[0;34m)\u001b[0m\u001b[0;34m\u001b[0m\u001b[0;34m\u001b[0m\u001b[0m\n\u001b[0m\u001b[1;32m    587\u001b[0m \u001b[0;34m\u001b[0m\u001b[0m\n\u001b[1;32m    588\u001b[0m \u001b[0;34m\u001b[0m\u001b[0m\n",
            "\u001b[0;32m/usr/local/lib/python3.7/dist-packages/pandas/io/parsers/readers.py\u001b[0m in \u001b[0;36m_read\u001b[0;34m(filepath_or_buffer, kwds)\u001b[0m\n\u001b[1;32m    480\u001b[0m \u001b[0;34m\u001b[0m\u001b[0m\n\u001b[1;32m    481\u001b[0m     \u001b[0;31m# Create the parser.\u001b[0m\u001b[0;34m\u001b[0m\u001b[0;34m\u001b[0m\u001b[0;34m\u001b[0m\u001b[0m\n\u001b[0;32m--> 482\u001b[0;31m     \u001b[0mparser\u001b[0m \u001b[0;34m=\u001b[0m \u001b[0mTextFileReader\u001b[0m\u001b[0;34m(\u001b[0m\u001b[0mfilepath_or_buffer\u001b[0m\u001b[0;34m,\u001b[0m \u001b[0;34m**\u001b[0m\u001b[0mkwds\u001b[0m\u001b[0;34m)\u001b[0m\u001b[0;34m\u001b[0m\u001b[0;34m\u001b[0m\u001b[0m\n\u001b[0m\u001b[1;32m    483\u001b[0m \u001b[0;34m\u001b[0m\u001b[0m\n\u001b[1;32m    484\u001b[0m     \u001b[0;32mif\u001b[0m \u001b[0mchunksize\u001b[0m \u001b[0;32mor\u001b[0m \u001b[0miterator\u001b[0m\u001b[0;34m:\u001b[0m\u001b[0;34m\u001b[0m\u001b[0;34m\u001b[0m\u001b[0m\n",
            "\u001b[0;32m/usr/local/lib/python3.7/dist-packages/pandas/io/parsers/readers.py\u001b[0m in \u001b[0;36m__init__\u001b[0;34m(self, f, engine, **kwds)\u001b[0m\n\u001b[1;32m    809\u001b[0m             \u001b[0mself\u001b[0m\u001b[0;34m.\u001b[0m\u001b[0moptions\u001b[0m\u001b[0;34m[\u001b[0m\u001b[0;34m\"has_index_names\"\u001b[0m\u001b[0;34m]\u001b[0m \u001b[0;34m=\u001b[0m \u001b[0mkwds\u001b[0m\u001b[0;34m[\u001b[0m\u001b[0;34m\"has_index_names\"\u001b[0m\u001b[0;34m]\u001b[0m\u001b[0;34m\u001b[0m\u001b[0;34m\u001b[0m\u001b[0m\n\u001b[1;32m    810\u001b[0m \u001b[0;34m\u001b[0m\u001b[0m\n\u001b[0;32m--> 811\u001b[0;31m         \u001b[0mself\u001b[0m\u001b[0;34m.\u001b[0m\u001b[0m_engine\u001b[0m \u001b[0;34m=\u001b[0m \u001b[0mself\u001b[0m\u001b[0;34m.\u001b[0m\u001b[0m_make_engine\u001b[0m\u001b[0;34m(\u001b[0m\u001b[0mself\u001b[0m\u001b[0;34m.\u001b[0m\u001b[0mengine\u001b[0m\u001b[0;34m)\u001b[0m\u001b[0;34m\u001b[0m\u001b[0;34m\u001b[0m\u001b[0m\n\u001b[0m\u001b[1;32m    812\u001b[0m \u001b[0;34m\u001b[0m\u001b[0m\n\u001b[1;32m    813\u001b[0m     \u001b[0;32mdef\u001b[0m \u001b[0mclose\u001b[0m\u001b[0;34m(\u001b[0m\u001b[0mself\u001b[0m\u001b[0;34m)\u001b[0m\u001b[0;34m:\u001b[0m\u001b[0;34m\u001b[0m\u001b[0;34m\u001b[0m\u001b[0m\n",
            "\u001b[0;32m/usr/local/lib/python3.7/dist-packages/pandas/io/parsers/readers.py\u001b[0m in \u001b[0;36m_make_engine\u001b[0;34m(self, engine)\u001b[0m\n\u001b[1;32m   1038\u001b[0m             )\n\u001b[1;32m   1039\u001b[0m         \u001b[0;31m# error: Too many arguments for \"ParserBase\"\u001b[0m\u001b[0;34m\u001b[0m\u001b[0;34m\u001b[0m\u001b[0;34m\u001b[0m\u001b[0m\n\u001b[0;32m-> 1040\u001b[0;31m         \u001b[0;32mreturn\u001b[0m \u001b[0mmapping\u001b[0m\u001b[0;34m[\u001b[0m\u001b[0mengine\u001b[0m\u001b[0;34m]\u001b[0m\u001b[0;34m(\u001b[0m\u001b[0mself\u001b[0m\u001b[0;34m.\u001b[0m\u001b[0mf\u001b[0m\u001b[0;34m,\u001b[0m \u001b[0;34m**\u001b[0m\u001b[0mself\u001b[0m\u001b[0;34m.\u001b[0m\u001b[0moptions\u001b[0m\u001b[0;34m)\u001b[0m  \u001b[0;31m# type: ignore[call-arg]\u001b[0m\u001b[0;34m\u001b[0m\u001b[0;34m\u001b[0m\u001b[0m\n\u001b[0m\u001b[1;32m   1041\u001b[0m \u001b[0;34m\u001b[0m\u001b[0m\n\u001b[1;32m   1042\u001b[0m     \u001b[0;32mdef\u001b[0m \u001b[0m_failover_to_python\u001b[0m\u001b[0;34m(\u001b[0m\u001b[0mself\u001b[0m\u001b[0;34m)\u001b[0m\u001b[0;34m:\u001b[0m\u001b[0;34m\u001b[0m\u001b[0;34m\u001b[0m\u001b[0m\n",
            "\u001b[0;32m/usr/local/lib/python3.7/dist-packages/pandas/io/parsers/c_parser_wrapper.py\u001b[0m in \u001b[0;36m__init__\u001b[0;34m(self, src, **kwds)\u001b[0m\n\u001b[1;32m     49\u001b[0m \u001b[0;34m\u001b[0m\u001b[0m\n\u001b[1;32m     50\u001b[0m         \u001b[0;31m# open handles\u001b[0m\u001b[0;34m\u001b[0m\u001b[0;34m\u001b[0m\u001b[0;34m\u001b[0m\u001b[0m\n\u001b[0;32m---> 51\u001b[0;31m         \u001b[0mself\u001b[0m\u001b[0;34m.\u001b[0m\u001b[0m_open_handles\u001b[0m\u001b[0;34m(\u001b[0m\u001b[0msrc\u001b[0m\u001b[0;34m,\u001b[0m \u001b[0mkwds\u001b[0m\u001b[0;34m)\u001b[0m\u001b[0;34m\u001b[0m\u001b[0;34m\u001b[0m\u001b[0m\n\u001b[0m\u001b[1;32m     52\u001b[0m         \u001b[0;32massert\u001b[0m \u001b[0mself\u001b[0m\u001b[0;34m.\u001b[0m\u001b[0mhandles\u001b[0m \u001b[0;32mis\u001b[0m \u001b[0;32mnot\u001b[0m \u001b[0;32mNone\u001b[0m\u001b[0;34m\u001b[0m\u001b[0;34m\u001b[0m\u001b[0m\n\u001b[1;32m     53\u001b[0m \u001b[0;34m\u001b[0m\u001b[0m\n",
            "\u001b[0;32m/usr/local/lib/python3.7/dist-packages/pandas/io/parsers/base_parser.py\u001b[0m in \u001b[0;36m_open_handles\u001b[0;34m(self, src, kwds)\u001b[0m\n\u001b[1;32m    227\u001b[0m             \u001b[0mmemory_map\u001b[0m\u001b[0;34m=\u001b[0m\u001b[0mkwds\u001b[0m\u001b[0;34m.\u001b[0m\u001b[0mget\u001b[0m\u001b[0;34m(\u001b[0m\u001b[0;34m\"memory_map\"\u001b[0m\u001b[0;34m,\u001b[0m \u001b[0;32mFalse\u001b[0m\u001b[0;34m)\u001b[0m\u001b[0;34m,\u001b[0m\u001b[0;34m\u001b[0m\u001b[0;34m\u001b[0m\u001b[0m\n\u001b[1;32m    228\u001b[0m             \u001b[0mstorage_options\u001b[0m\u001b[0;34m=\u001b[0m\u001b[0mkwds\u001b[0m\u001b[0;34m.\u001b[0m\u001b[0mget\u001b[0m\u001b[0;34m(\u001b[0m\u001b[0;34m\"storage_options\"\u001b[0m\u001b[0;34m,\u001b[0m \u001b[0;32mNone\u001b[0m\u001b[0;34m)\u001b[0m\u001b[0;34m,\u001b[0m\u001b[0;34m\u001b[0m\u001b[0;34m\u001b[0m\u001b[0m\n\u001b[0;32m--> 229\u001b[0;31m             \u001b[0merrors\u001b[0m\u001b[0;34m=\u001b[0m\u001b[0mkwds\u001b[0m\u001b[0;34m.\u001b[0m\u001b[0mget\u001b[0m\u001b[0;34m(\u001b[0m\u001b[0;34m\"encoding_errors\"\u001b[0m\u001b[0;34m,\u001b[0m \u001b[0;34m\"strict\"\u001b[0m\u001b[0;34m)\u001b[0m\u001b[0;34m,\u001b[0m\u001b[0;34m\u001b[0m\u001b[0;34m\u001b[0m\u001b[0m\n\u001b[0m\u001b[1;32m    230\u001b[0m         )\n\u001b[1;32m    231\u001b[0m \u001b[0;34m\u001b[0m\u001b[0m\n",
            "\u001b[0;32m/usr/local/lib/python3.7/dist-packages/pandas/io/common.py\u001b[0m in \u001b[0;36mget_handle\u001b[0;34m(path_or_buf, mode, encoding, compression, memory_map, is_text, errors, storage_options)\u001b[0m\n\u001b[1;32m    705\u001b[0m                 \u001b[0mencoding\u001b[0m\u001b[0;34m=\u001b[0m\u001b[0mioargs\u001b[0m\u001b[0;34m.\u001b[0m\u001b[0mencoding\u001b[0m\u001b[0;34m,\u001b[0m\u001b[0;34m\u001b[0m\u001b[0;34m\u001b[0m\u001b[0m\n\u001b[1;32m    706\u001b[0m                 \u001b[0merrors\u001b[0m\u001b[0;34m=\u001b[0m\u001b[0merrors\u001b[0m\u001b[0;34m,\u001b[0m\u001b[0;34m\u001b[0m\u001b[0;34m\u001b[0m\u001b[0m\n\u001b[0;32m--> 707\u001b[0;31m                 \u001b[0mnewline\u001b[0m\u001b[0;34m=\u001b[0m\u001b[0;34m\"\"\u001b[0m\u001b[0;34m,\u001b[0m\u001b[0;34m\u001b[0m\u001b[0;34m\u001b[0m\u001b[0m\n\u001b[0m\u001b[1;32m    708\u001b[0m             )\n\u001b[1;32m    709\u001b[0m         \u001b[0;32melse\u001b[0m\u001b[0;34m:\u001b[0m\u001b[0;34m\u001b[0m\u001b[0;34m\u001b[0m\u001b[0m\n",
            "\u001b[0;31mFileNotFoundError\u001b[0m: [Errno 2] No such file or directory: './covid19_cases.csv'"
          ]
        }
      ],
      "id": "639be40d-ec3f-434b-91c7-55350414dfb6"
    },
    {
      "cell_type": "code",
      "source": [
        "covidLongFormatDataFrame.head()"
      ],
      "metadata": {
        "trusted": true,
        "id": "8498633f-5817-4b4f-8939-21c339be3f36",
        "outputId": "114b99c5-4b6b-4b6b-cb2c-24768d8fda67"
      },
      "execution_count": null,
      "outputs": [
        {
          "execution_count": 5,
          "output_type": "execute_result",
          "data": {
            "text/plain": "      dateRep  day  month  year  cases  deaths countriesAndTerritories geoId  \\\n0  19/09/2020   19      9  2020     47       1             Afghanistan    AF   \n1  18/09/2020   18      9  2020      0       0             Afghanistan    AF   \n2  17/09/2020   17      9  2020     17       0             Afghanistan    AF   \n3  16/09/2020   16      9  2020     40      10             Afghanistan    AF   \n4  15/09/2020   15      9  2020     99       6             Afghanistan    AF   \n\n  countryterritoryCode  popData2019 continentExp  \\\n0                  AFG   38041757.0         Asia   \n1                  AFG   38041757.0         Asia   \n2                  AFG   38041757.0         Asia   \n3                  AFG   38041757.0         Asia   \n4                  AFG   38041757.0         Asia   \n\n   Cumulative_number_for_14_days_of_COVID-19_cases_per_100000  \n0                                           1.616645           \n1                                           1.535155           \n2                                           1.653446           \n3                                           1.708649           \n4                                           1.627159           ",
            "text/html": "<div>\n<style scoped>\n    .dataframe tbody tr th:only-of-type {\n        vertical-align: middle;\n    }\n\n    .dataframe tbody tr th {\n        vertical-align: top;\n    }\n\n    .dataframe thead th {\n        text-align: right;\n    }\n</style>\n<table border=\"1\" class=\"dataframe\">\n  <thead>\n    <tr style=\"text-align: right;\">\n      <th></th>\n      <th>dateRep</th>\n      <th>day</th>\n      <th>month</th>\n      <th>year</th>\n      <th>cases</th>\n      <th>deaths</th>\n      <th>countriesAndTerritories</th>\n      <th>geoId</th>\n      <th>countryterritoryCode</th>\n      <th>popData2019</th>\n      <th>continentExp</th>\n      <th>Cumulative_number_for_14_days_of_COVID-19_cases_per_100000</th>\n    </tr>\n  </thead>\n  <tbody>\n    <tr>\n      <th>0</th>\n      <td>19/09/2020</td>\n      <td>19</td>\n      <td>9</td>\n      <td>2020</td>\n      <td>47</td>\n      <td>1</td>\n      <td>Afghanistan</td>\n      <td>AF</td>\n      <td>AFG</td>\n      <td>38041757.0</td>\n      <td>Asia</td>\n      <td>1.616645</td>\n    </tr>\n    <tr>\n      <th>1</th>\n      <td>18/09/2020</td>\n      <td>18</td>\n      <td>9</td>\n      <td>2020</td>\n      <td>0</td>\n      <td>0</td>\n      <td>Afghanistan</td>\n      <td>AF</td>\n      <td>AFG</td>\n      <td>38041757.0</td>\n      <td>Asia</td>\n      <td>1.535155</td>\n    </tr>\n    <tr>\n      <th>2</th>\n      <td>17/09/2020</td>\n      <td>17</td>\n      <td>9</td>\n      <td>2020</td>\n      <td>17</td>\n      <td>0</td>\n      <td>Afghanistan</td>\n      <td>AF</td>\n      <td>AFG</td>\n      <td>38041757.0</td>\n      <td>Asia</td>\n      <td>1.653446</td>\n    </tr>\n    <tr>\n      <th>3</th>\n      <td>16/09/2020</td>\n      <td>16</td>\n      <td>9</td>\n      <td>2020</td>\n      <td>40</td>\n      <td>10</td>\n      <td>Afghanistan</td>\n      <td>AF</td>\n      <td>AFG</td>\n      <td>38041757.0</td>\n      <td>Asia</td>\n      <td>1.708649</td>\n    </tr>\n    <tr>\n      <th>4</th>\n      <td>15/09/2020</td>\n      <td>15</td>\n      <td>9</td>\n      <td>2020</td>\n      <td>99</td>\n      <td>6</td>\n      <td>Afghanistan</td>\n      <td>AF</td>\n      <td>AFG</td>\n      <td>38041757.0</td>\n      <td>Asia</td>\n      <td>1.627159</td>\n    </tr>\n  </tbody>\n</table>\n</div>"
          },
          "metadata": {}
        }
      ],
      "id": "8498633f-5817-4b4f-8939-21c339be3f36"
    },
    {
      "cell_type": "markdown",
      "source": [
        "#### To write an existing DataFrame using Pandas we use the method to_csv\n",
        "#### For instance, given the DataFrame \"covidLongFormatDataFrame\" we can write it as a local file in the folder \"../data/\"\n"
      ],
      "metadata": {
        "id": "10ce6692-e9ea-4160-ae17-e26d7031fbdd"
      },
      "id": "10ce6692-e9ea-4160-ae17-e26d7031fbdd"
    },
    {
      "cell_type": "code",
      "source": [
        "covidLongFormatDataFrame.to_csv('/home/jovyan/data/NewFile.csv')"
      ],
      "metadata": {
        "trusted": true,
        "id": "c4e8bf1e-d3b6-4f51-8dd8-0c54a279907f"
      },
      "execution_count": null,
      "outputs": [],
      "id": "c4e8bf1e-d3b6-4f51-8dd8-0c54a279907f"
    },
    {
      "cell_type": "markdown",
      "source": [
        "## 4. Reading and writing pickle files with Pandas\n",
        "#### Pickle file format is an alternative to CSV files. Pickle files usually load faster and occupy less space than their CSV counterparts\n",
        "#### We can save the previous DataFrame as a pickle file by way of the method to_pickle"
      ],
      "metadata": {
        "id": "adfa6eee-231f-47cb-be1e-cb7b3fa619c8"
      },
      "id": "adfa6eee-231f-47cb-be1e-cb7b3fa619c8"
    },
    {
      "cell_type": "code",
      "source": [
        "covidLongFormatDataFrame.to_pickle('/home/jovyan/data/PickleFile.pkl')"
      ],
      "metadata": {
        "trusted": true,
        "id": "2e1bc6a3-5213-44ee-90b2-39b657bd49b0"
      },
      "execution_count": null,
      "outputs": [],
      "id": "2e1bc6a3-5213-44ee-90b2-39b657bd49b0"
    },
    {
      "cell_type": "markdown",
      "source": [
        "#### and read it back again:"
      ],
      "metadata": {
        "id": "f0b970e4-bdea-4f99-b2ee-96ad7f0e54dc"
      },
      "id": "f0b970e4-bdea-4f99-b2ee-96ad7f0e54dc"
    },
    {
      "cell_type": "code",
      "source": [
        "pd.read_pickle('/home/jovyan/data/PickleFile.pkl')"
      ],
      "metadata": {
        "trusted": true,
        "id": "9c25d759-3de0-4579-9156-f2b160f92aa0",
        "outputId": "631d998b-6a02-4b46-e68e-f75d465c3fea"
      },
      "execution_count": null,
      "outputs": [
        {
          "execution_count": 8,
          "output_type": "execute_result",
          "data": {
            "text/plain": "          dateRep  day  month  year  cases  deaths countriesAndTerritories  \\\n0      19/09/2020   19      9  2020     47       1             Afghanistan   \n1      18/09/2020   18      9  2020      0       0             Afghanistan   \n2      17/09/2020   17      9  2020     17       0             Afghanistan   \n3      16/09/2020   16      9  2020     40      10             Afghanistan   \n4      15/09/2020   15      9  2020     99       6             Afghanistan   \n...           ...  ...    ...   ...    ...     ...                     ...   \n43713  25/03/2020   25      3  2020      0       0                Zimbabwe   \n43714  24/03/2020   24      3  2020      0       1                Zimbabwe   \n43715  23/03/2020   23      3  2020      0       0                Zimbabwe   \n43716  22/03/2020   22      3  2020      1       0                Zimbabwe   \n43717  21/03/2020   21      3  2020      1       0                Zimbabwe   \n\n      geoId countryterritoryCode  popData2019 continentExp  \\\n0        AF                  AFG   38041757.0         Asia   \n1        AF                  AFG   38041757.0         Asia   \n2        AF                  AFG   38041757.0         Asia   \n3        AF                  AFG   38041757.0         Asia   \n4        AF                  AFG   38041757.0         Asia   \n...     ...                  ...          ...          ...   \n43713    ZW                  ZWE   14645473.0       Africa   \n43714    ZW                  ZWE   14645473.0       Africa   \n43715    ZW                  ZWE   14645473.0       Africa   \n43716    ZW                  ZWE   14645473.0       Africa   \n43717    ZW                  ZWE   14645473.0       Africa   \n\n       Cumulative_number_for_14_days_of_COVID-19_cases_per_100000  \n0                                               1.616645           \n1                                               1.535155           \n2                                               1.653446           \n3                                               1.708649           \n4                                               1.627159           \n...                                                  ...           \n43713                                                NaN           \n43714                                                NaN           \n43715                                                NaN           \n43716                                                NaN           \n43717                                                NaN           \n\n[43718 rows x 12 columns]",
            "text/html": "<div>\n<style scoped>\n    .dataframe tbody tr th:only-of-type {\n        vertical-align: middle;\n    }\n\n    .dataframe tbody tr th {\n        vertical-align: top;\n    }\n\n    .dataframe thead th {\n        text-align: right;\n    }\n</style>\n<table border=\"1\" class=\"dataframe\">\n  <thead>\n    <tr style=\"text-align: right;\">\n      <th></th>\n      <th>dateRep</th>\n      <th>day</th>\n      <th>month</th>\n      <th>year</th>\n      <th>cases</th>\n      <th>deaths</th>\n      <th>countriesAndTerritories</th>\n      <th>geoId</th>\n      <th>countryterritoryCode</th>\n      <th>popData2019</th>\n      <th>continentExp</th>\n      <th>Cumulative_number_for_14_days_of_COVID-19_cases_per_100000</th>\n    </tr>\n  </thead>\n  <tbody>\n    <tr>\n      <th>0</th>\n      <td>19/09/2020</td>\n      <td>19</td>\n      <td>9</td>\n      <td>2020</td>\n      <td>47</td>\n      <td>1</td>\n      <td>Afghanistan</td>\n      <td>AF</td>\n      <td>AFG</td>\n      <td>38041757.0</td>\n      <td>Asia</td>\n      <td>1.616645</td>\n    </tr>\n    <tr>\n      <th>1</th>\n      <td>18/09/2020</td>\n      <td>18</td>\n      <td>9</td>\n      <td>2020</td>\n      <td>0</td>\n      <td>0</td>\n      <td>Afghanistan</td>\n      <td>AF</td>\n      <td>AFG</td>\n      <td>38041757.0</td>\n      <td>Asia</td>\n      <td>1.535155</td>\n    </tr>\n    <tr>\n      <th>2</th>\n      <td>17/09/2020</td>\n      <td>17</td>\n      <td>9</td>\n      <td>2020</td>\n      <td>17</td>\n      <td>0</td>\n      <td>Afghanistan</td>\n      <td>AF</td>\n      <td>AFG</td>\n      <td>38041757.0</td>\n      <td>Asia</td>\n      <td>1.653446</td>\n    </tr>\n    <tr>\n      <th>3</th>\n      <td>16/09/2020</td>\n      <td>16</td>\n      <td>9</td>\n      <td>2020</td>\n      <td>40</td>\n      <td>10</td>\n      <td>Afghanistan</td>\n      <td>AF</td>\n      <td>AFG</td>\n      <td>38041757.0</td>\n      <td>Asia</td>\n      <td>1.708649</td>\n    </tr>\n    <tr>\n      <th>4</th>\n      <td>15/09/2020</td>\n      <td>15</td>\n      <td>9</td>\n      <td>2020</td>\n      <td>99</td>\n      <td>6</td>\n      <td>Afghanistan</td>\n      <td>AF</td>\n      <td>AFG</td>\n      <td>38041757.0</td>\n      <td>Asia</td>\n      <td>1.627159</td>\n    </tr>\n    <tr>\n      <th>...</th>\n      <td>...</td>\n      <td>...</td>\n      <td>...</td>\n      <td>...</td>\n      <td>...</td>\n      <td>...</td>\n      <td>...</td>\n      <td>...</td>\n      <td>...</td>\n      <td>...</td>\n      <td>...</td>\n      <td>...</td>\n    </tr>\n    <tr>\n      <th>43713</th>\n      <td>25/03/2020</td>\n      <td>25</td>\n      <td>3</td>\n      <td>2020</td>\n      <td>0</td>\n      <td>0</td>\n      <td>Zimbabwe</td>\n      <td>ZW</td>\n      <td>ZWE</td>\n      <td>14645473.0</td>\n      <td>Africa</td>\n      <td>NaN</td>\n    </tr>\n    <tr>\n      <th>43714</th>\n      <td>24/03/2020</td>\n      <td>24</td>\n      <td>3</td>\n      <td>2020</td>\n      <td>0</td>\n      <td>1</td>\n      <td>Zimbabwe</td>\n      <td>ZW</td>\n      <td>ZWE</td>\n      <td>14645473.0</td>\n      <td>Africa</td>\n      <td>NaN</td>\n    </tr>\n    <tr>\n      <th>43715</th>\n      <td>23/03/2020</td>\n      <td>23</td>\n      <td>3</td>\n      <td>2020</td>\n      <td>0</td>\n      <td>0</td>\n      <td>Zimbabwe</td>\n      <td>ZW</td>\n      <td>ZWE</td>\n      <td>14645473.0</td>\n      <td>Africa</td>\n      <td>NaN</td>\n    </tr>\n    <tr>\n      <th>43716</th>\n      <td>22/03/2020</td>\n      <td>22</td>\n      <td>3</td>\n      <td>2020</td>\n      <td>1</td>\n      <td>0</td>\n      <td>Zimbabwe</td>\n      <td>ZW</td>\n      <td>ZWE</td>\n      <td>14645473.0</td>\n      <td>Africa</td>\n      <td>NaN</td>\n    </tr>\n    <tr>\n      <th>43717</th>\n      <td>21/03/2020</td>\n      <td>21</td>\n      <td>3</td>\n      <td>2020</td>\n      <td>1</td>\n      <td>0</td>\n      <td>Zimbabwe</td>\n      <td>ZW</td>\n      <td>ZWE</td>\n      <td>14645473.0</td>\n      <td>Africa</td>\n      <td>NaN</td>\n    </tr>\n  </tbody>\n</table>\n<p>43718 rows × 12 columns</p>\n</div>"
          },
          "metadata": {}
        }
      ],
      "id": "9c25d759-3de0-4579-9156-f2b160f92aa0"
    },
    {
      "cell_type": "markdown",
      "source": [
        "## 5. Reading and writing pickle files using Python\n",
        "#### The built-in function open takes the name of the file as a parameter and returns a file object you can use to read the file.\n",
        "\n"
      ],
      "metadata": {
        "id": "681c07cc-d35e-4262-9f10-d917845c49c2"
      },
      "id": "681c07cc-d35e-4262-9f10-d917845c49c2"
    },
    {
      "cell_type": "markdown",
      "source": [
        "#### For instance to open a file named \"words.txt\" stored in /home/jovyan/data/ "
      ],
      "metadata": {
        "id": "5805042e-107a-4bac-af03-1146c7ad4069"
      },
      "id": "5805042e-107a-4bac-af03-1146c7ad4069"
    },
    {
      "cell_type": "code",
      "source": [
        "\n",
        "\n",
        "fin = open('/home/jovyan/data/words.txt')"
      ],
      "metadata": {
        "trusted": true,
        "id": "181c33e0-bdc9-4a6a-bb25-2d1743550476"
      },
      "execution_count": null,
      "outputs": [],
      "id": "181c33e0-bdc9-4a6a-bb25-2d1743550476"
    },
    {
      "cell_type": "code",
      "source": [
        "## We read one line \n",
        "fin.readline()"
      ],
      "metadata": {
        "trusted": true,
        "id": "8907fde4-e2b1-44c5-a94c-94d42ecb8bb5",
        "outputId": "9b4b2c31-3ae6-4672-aa2c-da379ca969eb"
      },
      "execution_count": null,
      "outputs": [
        {
          "execution_count": 10,
          "output_type": "execute_result",
          "data": {
            "text/plain": "'aa\\n'"
          },
          "metadata": {}
        }
      ],
      "id": "8907fde4-e2b1-44c5-a94c-94d42ecb8bb5"
    },
    {
      "cell_type": "code",
      "source": [
        "## We read another line \n",
        "fin.readline()"
      ],
      "metadata": {
        "trusted": true,
        "id": "9d87d87a-eb26-4b2b-b4ce-9758727884c1",
        "outputId": "185d4f8b-9556-4323-855c-a55c0be97f42"
      },
      "execution_count": null,
      "outputs": [
        {
          "execution_count": 11,
          "output_type": "execute_result",
          "data": {
            "text/plain": "'aah\\n'"
          },
          "metadata": {}
        }
      ],
      "id": "9d87d87a-eb26-4b2b-b4ce-9758727884c1"
    },
    {
      "cell_type": "code",
      "source": [
        "## And another line \n",
        "fin.readline()"
      ],
      "metadata": {
        "trusted": true,
        "id": "67d348b1-df3f-4158-bb0d-3b64d795f427",
        "outputId": "73b84747-a0ed-4e9c-8add-a664c97af651"
      },
      "execution_count": null,
      "outputs": [
        {
          "execution_count": 12,
          "output_type": "execute_result",
          "data": {
            "text/plain": "'aahed\\n'"
          },
          "metadata": {}
        }
      ],
      "id": "67d348b1-df3f-4158-bb0d-3b64d795f427"
    },
    {
      "cell_type": "markdown",
      "source": [
        "#### You can also use a file object as part of a for loop. This program reads words.txt and prints each word, one per line:"
      ],
      "metadata": {
        "id": "31ba4801-0124-4b37-ab31-04ab317642d7"
      },
      "id": "31ba4801-0124-4b37-ab31-04ab317642d7"
    },
    {
      "cell_type": "code",
      "source": [
        "fin = open('/home/jovyan/data/words.txt')\n",
        "for line in fin:\n",
        "    word = line.strip()\n",
        "    if word=='abbey':\n",
        "        break\n",
        "    print(word)"
      ],
      "metadata": {
        "trusted": true,
        "id": "00df5857-99a1-4c2c-8b0e-fc130515d52c",
        "outputId": "447eb325-cf67-48a6-d1dc-93862e52f5f4"
      },
      "execution_count": null,
      "outputs": [
        {
          "name": "stdout",
          "text": "aa\naah\naahed\naahing\naahs\naal\naalii\naaliis\naals\naardvark\naardvarks\naardwolf\naardwolves\naas\naasvogel\naasvogels\naba\nabaca\nabacas\nabaci\naback\nabacus\nabacuses\nabaft\nabaka\nabakas\nabalone\nabalones\nabamp\nabampere\nabamperes\nabamps\nabandon\nabandoned\nabandoning\nabandonment\nabandonments\nabandons\nabas\nabase\nabased\nabasedly\nabasement\nabasements\nabaser\nabasers\nabases\nabash\nabashed\nabashes\nabashing\nabasing\nabatable\nabate\nabated\nabatement\nabatements\nabater\nabaters\nabates\nabating\nabatis\nabatises\nabator\nabators\nabattis\nabattises\nabattoir\nabattoirs\nabaxial\nabaxile\nabbacies\nabbacy\nabbatial\nabbe\nabbes\nabbess\nabbesses\n",
          "output_type": "stream"
        }
      ],
      "id": "00df5857-99a1-4c2c-8b0e-fc130515d52c"
    },
    {
      "cell_type": "code",
      "source": [],
      "metadata": {
        "id": "8b2b0558-ff1a-4a97-b7f5-7aa2d54de442"
      },
      "execution_count": null,
      "outputs": [],
      "id": "8b2b0558-ff1a-4a97-b7f5-7aa2d54de442"
    },
    {
      "cell_type": "code",
      "source": [],
      "metadata": {
        "id": "f06d7f0c-95ac-41ad-87a6-338905874bff"
      },
      "execution_count": null,
      "outputs": [],
      "id": "f06d7f0c-95ac-41ad-87a6-338905874bff"
    }
  ]
}