{
  "metadata": {
    "orig_nbformat": 4,
    "kernelspec": {
      "name": "python3",
      "display_name": "Python 3 (ipykernel)",
      "language": "python"
    },
    "language_info": {
      "name": "python",
      "version": "3.7.12",
      "mimetype": "text/x-python",
      "codemirror_mode": {
        "name": "ipython",
        "version": 3
      },
      "pygments_lexer": "ipython3",
      "nbconvert_exporter": "python",
      "file_extension": ".py"
    },
    "colab": {
      "provenance": []
    }
  },
  "nbformat_minor": 0,
  "nbformat": 4,
  "cells": [
    {
      "cell_type": "markdown",
      "source": [
        "# Strings and Text Data Lab"
      ],
      "metadata": {
        "id": "PczovN4mYr8_"
      }
    },
    {
      "cell_type": "markdown",
      "source": [
        "### The ability to process textual information is a core competence of any data scientist or business analyst. Humans communicate mostly using spoken and written lanuage (e.g. posting messages on social media, reviews on ecommerce platforms)"
      ],
      "metadata": {
        "id": "ToyI9seRYr9C"
      }
    },
    {
      "cell_type": "markdown",
      "source": [
        "### In this lab we will learn the following:\n",
        "\n",
        "1. Define string variables\n",
        "2. String methods\n",
        "3. String formatting\n",
        "4. Regular expressions"
      ],
      "metadata": {
        "id": "Y5_Um4SqYr9C"
      }
    },
    {
      "cell_type": "code",
      "source": [],
      "metadata": {
        "id": "wAlkPSaIYr9D"
      },
      "execution_count": null,
      "outputs": []
    },
    {
      "cell_type": "markdown",
      "source": [
        "### 0. Lets import required libraries"
      ],
      "metadata": {
        "id": "tlzyK5pYYr9D"
      }
    },
    {
      "cell_type": "code",
      "source": [
        "import re"
      ],
      "metadata": {
        "trusted": true,
        "id": "RZ-EYXv6Yr9E"
      },
      "execution_count": 1,
      "outputs": []
    },
    {
      "cell_type": "code",
      "source": [
        "import pandas as pd"
      ],
      "metadata": {
        "trusted": true,
        "id": "3IehZgQfYr9E"
      },
      "execution_count": 2,
      "outputs": []
    },
    {
      "cell_type": "code",
      "source": [
        "import warnings\n",
        "warnings.filterwarnings(\"ignore\")"
      ],
      "metadata": {
        "trusted": true,
        "id": "BcHzwi40Yr9F"
      },
      "execution_count": 3,
      "outputs": []
    },
    {
      "cell_type": "markdown",
      "source": [
        "## 1. Basic text manipulation with Python"
      ],
      "metadata": {
        "id": "rdYj-ne3Yr9F"
      }
    },
    {
      "cell_type": "markdown",
      "source": [
        "#### In Python texts are defined as string variables.\n",
        "#### A string is simply a series of characters. They are created by a set of opening and matching single or double quotes. For example,"
      ],
      "metadata": {
        "id": "YOrp6fNFYr9G"
      }
    },
    {
      "cell_type": "code",
      "source": [
        "word = 'banana'\n",
        "sentence = 'We are in the year 2021'"
      ],
      "metadata": {
        "trusted": true,
        "id": "Jpjvtc0JYr9G"
      },
      "execution_count": 4,
      "outputs": []
    },
    {
      "cell_type": "code",
      "source": [
        "type(word)"
      ],
      "metadata": {
        "trusted": true,
        "id": "l00EZ7IfYr9H",
        "outputId": "50d9d7d7-fc9f-44ac-94c0-7413c7a91838",
        "colab": {
          "base_uri": "https://localhost:8080/"
        }
      },
      "execution_count": 5,
      "outputs": [
        {
          "output_type": "execute_result",
          "data": {
            "text/plain": [
              "str"
            ]
          },
          "metadata": {},
          "execution_count": 5
        }
      ]
    },
    {
      "cell_type": "code",
      "source": [
        "type(sentence)"
      ],
      "metadata": {
        "trusted": true,
        "id": "Zl1ej92IYr9H",
        "outputId": "0c32101c-84b6-42a6-8281-4b8d2242c1df",
        "colab": {
          "base_uri": "https://localhost:8080/"
        }
      },
      "execution_count": 6,
      "outputs": [
        {
          "output_type": "execute_result",
          "data": {
            "text/plain": [
              "str"
            ]
          },
          "metadata": {},
          "execution_count": 6
        }
      ]
    },
    {
      "cell_type": "markdown",
      "source": [
        "### 1.1. Subsetting and Slicing Strings"
      ],
      "metadata": {
        "id": "xtm19dp3Yr9I"
      }
    },
    {
      "cell_type": "code",
      "source": [
        "word[0]"
      ],
      "metadata": {
        "trusted": true,
        "id": "UdVfr7XHYr9I",
        "outputId": "805e112a-7f29-4c81-c813-890a67cff091",
        "colab": {
          "base_uri": "https://localhost:8080/",
          "height": 35
        }
      },
      "execution_count": 7,
      "outputs": [
        {
          "output_type": "execute_result",
          "data": {
            "text/plain": [
              "'b'"
            ],
            "application/vnd.google.colaboratory.intrinsic+json": {
              "type": "string"
            }
          },
          "metadata": {},
          "execution_count": 7
        }
      ]
    },
    {
      "cell_type": "code",
      "source": [
        "sentence[6]"
      ],
      "metadata": {
        "trusted": true,
        "id": "1jwZFz2DYr9I",
        "outputId": "0b727d29-9c8d-4311-fed9-4faf107cebf8",
        "colab": {
          "base_uri": "https://localhost:8080/",
          "height": 35
        }
      },
      "execution_count": 8,
      "outputs": [
        {
          "output_type": "execute_result",
          "data": {
            "text/plain": [
              "' '"
            ],
            "application/vnd.google.colaboratory.intrinsic+json": {
              "type": "string"
            }
          },
          "metadata": {},
          "execution_count": 8
        }
      ]
    },
    {
      "cell_type": "code",
      "source": [
        "word[0:3]"
      ],
      "metadata": {
        "trusted": true,
        "id": "_kiPf6sGYr9I",
        "outputId": "2b8a0d60-c085-461e-ab09-5a4553f70ec5",
        "colab": {
          "base_uri": "https://localhost:8080/",
          "height": 35
        }
      },
      "execution_count": 9,
      "outputs": [
        {
          "output_type": "execute_result",
          "data": {
            "text/plain": [
              "'ban'"
            ],
            "application/vnd.google.colaboratory.intrinsic+json": {
              "type": "string"
            }
          },
          "metadata": {},
          "execution_count": 9
        }
      ]
    },
    {
      "cell_type": "code",
      "source": [
        "word[-1]"
      ],
      "metadata": {
        "trusted": true,
        "id": "3sXNPR8CYr9J",
        "outputId": "6d23b794-f008-4c00-84a0-fe087da5c7a9",
        "colab": {
          "base_uri": "https://localhost:8080/",
          "height": 35
        }
      },
      "execution_count": 10,
      "outputs": [
        {
          "output_type": "execute_result",
          "data": {
            "text/plain": [
              "'a'"
            ],
            "application/vnd.google.colaboratory.intrinsic+json": {
              "type": "string"
            }
          },
          "metadata": {},
          "execution_count": 10
        }
      ]
    },
    {
      "cell_type": "code",
      "source": [
        "word[-4:]"
      ],
      "metadata": {
        "trusted": true,
        "id": "0SIpAhcrYr9J",
        "outputId": "a7ca3a98-d6c4-4e6a-cf62-d20a9d3fe413",
        "colab": {
          "base_uri": "https://localhost:8080/",
          "height": 35
        }
      },
      "execution_count": 11,
      "outputs": [
        {
          "output_type": "execute_result",
          "data": {
            "text/plain": [
              "'nana'"
            ],
            "application/vnd.google.colaboratory.intrinsic+json": {
              "type": "string"
            }
          },
          "metadata": {},
          "execution_count": 11
        }
      ]
    },
    {
      "cell_type": "code",
      "source": [
        "sentence[0:5]"
      ],
      "metadata": {
        "trusted": true,
        "id": "Qwps5S21Yr9J",
        "outputId": "f334bad2-2374-4c2f-9f70-deacde1149fc",
        "colab": {
          "base_uri": "https://localhost:8080/",
          "height": 35
        }
      },
      "execution_count": 12,
      "outputs": [
        {
          "output_type": "execute_result",
          "data": {
            "text/plain": [
              "'We ar'"
            ],
            "application/vnd.google.colaboratory.intrinsic+json": {
              "type": "string"
            }
          },
          "metadata": {},
          "execution_count": 12
        }
      ]
    },
    {
      "cell_type": "code",
      "source": [
        "sentence[10:]"
      ],
      "metadata": {
        "trusted": true,
        "id": "dEk-9FKGYr9J",
        "outputId": "4b4341cc-72b6-4a7e-a357-a9b879093241",
        "colab": {
          "base_uri": "https://localhost:8080/",
          "height": 35
        }
      },
      "execution_count": 13,
      "outputs": [
        {
          "output_type": "execute_result",
          "data": {
            "text/plain": [
              "'the year 2021'"
            ],
            "application/vnd.google.colaboratory.intrinsic+json": {
              "type": "string"
            }
          },
          "metadata": {},
          "execution_count": 13
        }
      ]
    },
    {
      "cell_type": "code",
      "source": [
        "sentence[14:18]"
      ],
      "metadata": {
        "trusted": true,
        "id": "KzMNwMQ0Yr9K",
        "outputId": "3c46e5a3-d606-4ae4-adcd-ab188cedd76a",
        "colab": {
          "base_uri": "https://localhost:8080/",
          "height": 35
        }
      },
      "execution_count": 14,
      "outputs": [
        {
          "output_type": "execute_result",
          "data": {
            "text/plain": [
              "'year'"
            ],
            "application/vnd.google.colaboratory.intrinsic+json": {
              "type": "string"
            }
          },
          "metadata": {},
          "execution_count": 14
        }
      ]
    },
    {
      "cell_type": "markdown",
      "source": [
        "### 1.2. String methods with Python"
      ],
      "metadata": {
        "id": "PbaKUZXJYr9K"
      }
    },
    {
      "cell_type": "code",
      "source": [
        "sentence='this is a really long string of words'"
      ],
      "metadata": {
        "trusted": true,
        "id": "HNioTaO_Yr9L"
      },
      "execution_count": 15,
      "outputs": []
    },
    {
      "cell_type": "code",
      "source": [
        "type(sentence)"
      ],
      "metadata": {
        "trusted": true,
        "id": "MimQW03JYr9L",
        "outputId": "88dd67b5-f634-4bc9-effb-ecdbef835444",
        "colab": {
          "base_uri": "https://localhost:8080/"
        }
      },
      "execution_count": 16,
      "outputs": [
        {
          "output_type": "execute_result",
          "data": {
            "text/plain": [
              "str"
            ]
          },
          "metadata": {},
          "execution_count": 16
        }
      ]
    },
    {
      "cell_type": "code",
      "source": [
        "# We capitalize the sentence\n",
        "sentence.capitalize()"
      ],
      "metadata": {
        "trusted": true,
        "id": "WWgumOKpYr9L",
        "outputId": "aa362180-bbb3-481a-acbd-fd30109462ad",
        "colab": {
          "base_uri": "https://localhost:8080/",
          "height": 35
        }
      },
      "execution_count": 17,
      "outputs": [
        {
          "output_type": "execute_result",
          "data": {
            "text/plain": [
              "'This is a really long string of words'"
            ],
            "application/vnd.google.colaboratory.intrinsic+json": {
              "type": "string"
            }
          },
          "metadata": {},
          "execution_count": 17
        }
      ]
    },
    {
      "cell_type": "code",
      "source": [
        "# count the number of \"a\" in the sentence\n",
        "sentence.count('a')"
      ],
      "metadata": {
        "trusted": true,
        "id": "4KtHWAujYr9L",
        "outputId": "75449aa2-ea69-4c04-eff7-7388e2f2db8d",
        "colab": {
          "base_uri": "https://localhost:8080/"
        }
      },
      "execution_count": 18,
      "outputs": [
        {
          "output_type": "execute_result",
          "data": {
            "text/plain": [
              "2"
            ]
          },
          "metadata": {},
          "execution_count": 18
        }
      ]
    },
    {
      "cell_type": "code",
      "source": [
        "# count the number of \"i\" in the sentence\n",
        "sentence.count('i')"
      ],
      "metadata": {
        "trusted": true,
        "id": "dX1-G38zYr9M",
        "outputId": "3965e097-16ac-4063-8ee2-69b89f46673a",
        "colab": {
          "base_uri": "https://localhost:8080/"
        }
      },
      "execution_count": 19,
      "outputs": [
        {
          "output_type": "execute_result",
          "data": {
            "text/plain": [
              "3"
            ]
          },
          "metadata": {},
          "execution_count": 19
        }
      ]
    },
    {
      "cell_type": "code",
      "source": [
        "sentence.upper()"
      ],
      "metadata": {
        "trusted": true,
        "id": "HFoLlsfOYr9M",
        "outputId": "87a78a63-fa96-46dd-db26-6fcecf25cb2e",
        "colab": {
          "base_uri": "https://localhost:8080/",
          "height": 35
        }
      },
      "execution_count": 20,
      "outputs": [
        {
          "output_type": "execute_result",
          "data": {
            "text/plain": [
              "'THIS IS A REALLY LONG STRING OF WORDS'"
            ],
            "application/vnd.google.colaboratory.intrinsic+json": {
              "type": "string"
            }
          },
          "metadata": {},
          "execution_count": 20
        }
      ]
    },
    {
      "cell_type": "code",
      "source": [
        "sentence.startswith('this')"
      ],
      "metadata": {
        "trusted": true,
        "id": "ACFmyV9VYr9M",
        "outputId": "51168a8e-e6d6-45cb-ebdc-0f6598961ff3",
        "colab": {
          "base_uri": "https://localhost:8080/"
        }
      },
      "execution_count": 21,
      "outputs": [
        {
          "output_type": "execute_result",
          "data": {
            "text/plain": [
              "True"
            ]
          },
          "metadata": {},
          "execution_count": 21
        }
      ]
    },
    {
      "cell_type": "code",
      "source": [],
      "metadata": {
        "id": "W6V8QC6kYr9M"
      },
      "execution_count": 21,
      "outputs": []
    },
    {
      "cell_type": "code",
      "source": [
        "sentence.replace('long', 'short')"
      ],
      "metadata": {
        "trusted": true,
        "id": "-HUk-uLaYr9M",
        "outputId": "052dc61e-634c-477c-8bad-5898da8704dd",
        "colab": {
          "base_uri": "https://localhost:8080/",
          "height": 35
        }
      },
      "execution_count": 22,
      "outputs": [
        {
          "output_type": "execute_result",
          "data": {
            "text/plain": [
              "'this is a really short string of words'"
            ],
            "application/vnd.google.colaboratory.intrinsic+json": {
              "type": "string"
            }
          },
          "metadata": {},
          "execution_count": 22
        }
      ]
    },
    {
      "cell_type": "code",
      "source": [],
      "metadata": {
        "id": "c4HEChb_Yr9M"
      },
      "execution_count": 22,
      "outputs": []
    },
    {
      "cell_type": "code",
      "source": [
        "anotherSentence='This is yet another sentence'"
      ],
      "metadata": {
        "trusted": true,
        "id": "imRt6p3IYr9N"
      },
      "execution_count": 23,
      "outputs": []
    },
    {
      "cell_type": "code",
      "source": [
        "sentence+anotherSentence"
      ],
      "metadata": {
        "trusted": true,
        "id": "Zj_wXtCxYr9N",
        "outputId": "730c7c34-7c9a-42ea-d960-a6b912b630c4",
        "colab": {
          "base_uri": "https://localhost:8080/",
          "height": 35
        }
      },
      "execution_count": 24,
      "outputs": [
        {
          "output_type": "execute_result",
          "data": {
            "text/plain": [
              "'this is a really long string of wordsThis is yet another sentence'"
            ],
            "application/vnd.google.colaboratory.intrinsic+json": {
              "type": "string"
            }
          },
          "metadata": {},
          "execution_count": 24
        }
      ]
    },
    {
      "cell_type": "code",
      "source": [
        "sentence+'. '+anotherSentence"
      ],
      "metadata": {
        "trusted": true,
        "id": "ALuqzYKzYr9N",
        "outputId": "0c62e730-6a2c-4900-ef5e-82f9fea88a84",
        "colab": {
          "base_uri": "https://localhost:8080/",
          "height": 35
        }
      },
      "execution_count": 25,
      "outputs": [
        {
          "output_type": "execute_result",
          "data": {
            "text/plain": [
              "'this is a really long string of words. This is yet another sentence'"
            ],
            "application/vnd.google.colaboratory.intrinsic+json": {
              "type": "string"
            }
          },
          "metadata": {},
          "execution_count": 25
        }
      ]
    },
    {
      "cell_type": "code",
      "source": [],
      "metadata": {
        "id": "TzP2PX6qYr9N"
      },
      "execution_count": 25,
      "outputs": []
    },
    {
      "cell_type": "code",
      "source": [],
      "metadata": {
        "id": "9s6VO2aMYr9N"
      },
      "execution_count": 25,
      "outputs": []
    },
    {
      "cell_type": "markdown",
      "source": [
        "## 2. Advanced text manipulation with RegEx"
      ],
      "metadata": {
        "id": "CGg02WbzYr9O"
      }
    },
    {
      "cell_type": "markdown",
      "source": [
        "#### When the base Python string methods that search for patterns aren’t enough, you can resort to regular expressions. The extremely powerful regular expressions provide a (nontrivial) way to find and match patterns in strings. The downside is that after you finish writing a complex regular expression, it becomes difficult to figure out what the pattern does by looking at it. That is, the syntax is difficult to read.\n",
        "\n",
        "#### For many data tasks, such as matching a telephone number or address field validation, it’s almost easier to Google which type of patten you are trying to match, and paste what someone has already written into your own code. You might can use https://regex101.com/ to test and debug RegEx expressions it’s a great place and reference for regular expressions and testing patterns on test strings. It even has a Python mode, so you can directly copy/paste a pattern from the site into your own Python code.\n",
        "\n"
      ],
      "metadata": {
        "id": "w7DU_s7lYr9O"
      }
    },
    {
      "cell_type": "code",
      "source": [
        "## This is a regex pattern that matches digits\n",
        "pattern_digits = '\\d+'"
      ],
      "metadata": {
        "trusted": true,
        "id": "0n4YqxFeYr9O"
      },
      "execution_count": 26,
      "outputs": []
    },
    {
      "cell_type": "code",
      "source": [
        "names=\"13 Jodie Whittaker, John Hurn 12, Peter Capaldi 11, Matt Smith 10, David Tennant 9\""
      ],
      "metadata": {
        "trusted": true,
        "id": "J8-Xe6rSYr9O"
      },
      "execution_count": 27,
      "outputs": []
    },
    {
      "cell_type": "code",
      "source": [
        "names"
      ],
      "metadata": {
        "trusted": true,
        "id": "fTPXwyxIYr9P",
        "outputId": "68ad1fa3-0b59-4cac-c2c9-366e4934a105",
        "colab": {
          "base_uri": "https://localhost:8080/",
          "height": 35
        }
      },
      "execution_count": 28,
      "outputs": [
        {
          "output_type": "execute_result",
          "data": {
            "text/plain": [
              "'13 Jodie Whittaker, John Hurn 12, Peter Capaldi 11, Matt Smith 10, David Tennant 9'"
            ],
            "application/vnd.google.colaboratory.intrinsic+json": {
              "type": "string"
            }
          },
          "metadata": {},
          "execution_count": 28
        }
      ]
    },
    {
      "cell_type": "code",
      "source": [
        "numbers = re.findall(pattern=pattern_digits, string=names)"
      ],
      "metadata": {
        "trusted": true,
        "id": "jyL__aFyYr9P"
      },
      "execution_count": 29,
      "outputs": []
    },
    {
      "cell_type": "code",
      "source": [
        "numbers"
      ],
      "metadata": {
        "trusted": true,
        "id": "67L7HN3IYr9P",
        "outputId": "dcfd2af2-b68b-4bcf-a410-314a2cdda1e4",
        "colab": {
          "base_uri": "https://localhost:8080/"
        }
      },
      "execution_count": 30,
      "outputs": [
        {
          "output_type": "execute_result",
          "data": {
            "text/plain": [
              "['13', '12', '11', '10', '9']"
            ]
          },
          "metadata": {},
          "execution_count": 30
        }
      ]
    },
    {
      "cell_type": "code",
      "source": [
        "## This is a regex pattern that matches words except digits\n",
        "pattern_words = '\\D+'"
      ],
      "metadata": {
        "trusted": true,
        "id": "qc2HbobCYr9P"
      },
      "execution_count": 31,
      "outputs": []
    },
    {
      "cell_type": "code",
      "source": [
        "words = re.findall(pattern=pattern_words, string=names)"
      ],
      "metadata": {
        "trusted": true,
        "id": "_nRVyu_wYr9P"
      },
      "execution_count": 32,
      "outputs": []
    },
    {
      "cell_type": "code",
      "source": [
        "words"
      ],
      "metadata": {
        "trusted": true,
        "id": "UhXT_L6CYr9Q",
        "outputId": "0017f9ed-ba2e-47cc-f14c-cbe1c1e1e8da",
        "colab": {
          "base_uri": "https://localhost:8080/"
        }
      },
      "execution_count": 33,
      "outputs": [
        {
          "output_type": "execute_result",
          "data": {
            "text/plain": [
              "[' Jodie Whittaker, John Hurn ',\n",
              " ', Peter Capaldi ',\n",
              " ', Matt Smith ',\n",
              " ', David Tennant ']"
            ]
          },
          "metadata": {},
          "execution_count": 33
        }
      ]
    },
    {
      "cell_type": "code",
      "source": [
        "pattern_u='\\S*u+\\S*'"
      ],
      "metadata": {
        "trusted": true,
        "id": "Hwg5M7muYr9Q"
      },
      "execution_count": 34,
      "outputs": []
    },
    {
      "cell_type": "code",
      "source": [
        "words_containing_u = re.findall(pattern=pattern_u, string=names)"
      ],
      "metadata": {
        "trusted": true,
        "id": "4i3ELHkWYr9Q"
      },
      "execution_count": 35,
      "outputs": []
    },
    {
      "cell_type": "code",
      "source": [
        "words_containing_u"
      ],
      "metadata": {
        "trusted": true,
        "id": "w6Xk3gXFYr9Q",
        "outputId": "485a216d-7014-4699-fd37-0fb46b478f48",
        "colab": {
          "base_uri": "https://localhost:8080/"
        }
      },
      "execution_count": 36,
      "outputs": [
        {
          "output_type": "execute_result",
          "data": {
            "text/plain": [
              "['Hurn']"
            ]
          },
          "metadata": {},
          "execution_count": 36
        }
      ]
    },
    {
      "cell_type": "code",
      "source": [
        "pattern_Jo='\\S*Jo+\\S*'"
      ],
      "metadata": {
        "trusted": true,
        "id": "oDAV4gfkYr9Q"
      },
      "execution_count": 37,
      "outputs": []
    },
    {
      "cell_type": "code",
      "source": [
        "words_starting_with_Jo = re.findall(pattern=pattern_Jo, string=names)"
      ],
      "metadata": {
        "trusted": true,
        "id": "lGki966AYr9Q"
      },
      "execution_count": 38,
      "outputs": []
    },
    {
      "cell_type": "code",
      "source": [
        "words_starting_with_Jo"
      ],
      "metadata": {
        "trusted": true,
        "id": "ogTnzS1PYr9Q",
        "outputId": "bd81d330-bba9-42dc-93f3-8ba9501153a1",
        "colab": {
          "base_uri": "https://localhost:8080/"
        }
      },
      "execution_count": 39,
      "outputs": [
        {
          "output_type": "execute_result",
          "data": {
            "text/plain": [
              "['Jodie', 'John']"
            ]
          },
          "metadata": {},
          "execution_count": 39
        }
      ]
    },
    {
      "cell_type": "code",
      "source": [],
      "metadata": {
        "id": "fZswYX2nYr9R"
      },
      "execution_count": 39,
      "outputs": []
    },
    {
      "cell_type": "code",
      "source": [],
      "metadata": {
        "id": "-HgxcL7lYr9R"
      },
      "execution_count": 39,
      "outputs": []
    },
    {
      "cell_type": "markdown",
      "source": [
        "## 3. Basic text manipulation with Pandas\n",
        "### Pandas offers basic string manipulation capabilities"
      ],
      "metadata": {
        "id": "8VrYyOcyYr9R"
      }
    },
    {
      "cell_type": "code",
      "source": [],
      "metadata": {
        "id": "SYWXmDhcYr9R"
      },
      "execution_count": 39,
      "outputs": []
    },
    {
      "cell_type": "code",
      "source": [
        "hello_words= pd.Series(['hola', 'hello', 'nǐ hǎo','hallo','bonjour'], dtype=\"string\")"
      ],
      "metadata": {
        "trusted": true,
        "id": "molEeUqMYr9R"
      },
      "execution_count": 40,
      "outputs": []
    },
    {
      "cell_type": "code",
      "source": [
        "hello_words"
      ],
      "metadata": {
        "trusted": true,
        "id": "SRc89EVTYr9R",
        "outputId": "5bd75551-8305-48b6-cdd2-f12d874696fb",
        "colab": {
          "base_uri": "https://localhost:8080/"
        }
      },
      "execution_count": 41,
      "outputs": [
        {
          "output_type": "execute_result",
          "data": {
            "text/plain": [
              "0       hola\n",
              "1      hello\n",
              "2     nǐ hǎo\n",
              "3      hallo\n",
              "4    bonjour\n",
              "dtype: string"
            ]
          },
          "metadata": {},
          "execution_count": 41
        }
      ]
    },
    {
      "cell_type": "code",
      "source": [
        "contains_a=hello_words.str.count(\"a\")"
      ],
      "metadata": {
        "trusted": true,
        "id": "Sj_8CFizYr9R"
      },
      "execution_count": 42,
      "outputs": []
    },
    {
      "cell_type": "code",
      "source": [
        "contains_a"
      ],
      "metadata": {
        "trusted": true,
        "id": "B955AITsYr9R",
        "outputId": "e8e00fec-3013-48a2-bd0c-9f6167f057bd",
        "colab": {
          "base_uri": "https://localhost:8080/"
        }
      },
      "execution_count": 43,
      "outputs": [
        {
          "output_type": "execute_result",
          "data": {
            "text/plain": [
              "0    1\n",
              "1    0\n",
              "2    0\n",
              "3    1\n",
              "4    0\n",
              "dtype: Int64"
            ]
          },
          "metadata": {},
          "execution_count": 43
        }
      ]
    },
    {
      "cell_type": "code",
      "source": [
        "contains_l=hello_words.str.count(\"l\")"
      ],
      "metadata": {
        "trusted": true,
        "id": "ZJurVuHzYr9S"
      },
      "execution_count": 44,
      "outputs": []
    },
    {
      "cell_type": "code",
      "source": [
        "contains_l"
      ],
      "metadata": {
        "trusted": true,
        "id": "H-lqMCMBYr9S",
        "outputId": "901e3b41-2657-43e6-c1a3-cd4d8c4e6568",
        "colab": {
          "base_uri": "https://localhost:8080/"
        }
      },
      "execution_count": 45,
      "outputs": [
        {
          "output_type": "execute_result",
          "data": {
            "text/plain": [
              "0    1\n",
              "1    2\n",
              "2    0\n",
              "3    2\n",
              "4    0\n",
              "dtype: Int64"
            ]
          },
          "metadata": {},
          "execution_count": 45
        }
      ]
    },
    {
      "cell_type": "code",
      "source": [
        "boolean_hallo=hello_words.str.match(\"hallo\")"
      ],
      "metadata": {
        "trusted": true,
        "id": "GXYeqSGwYr9S"
      },
      "execution_count": 46,
      "outputs": []
    },
    {
      "cell_type": "code",
      "source": [
        "boolean_hallo"
      ],
      "metadata": {
        "trusted": true,
        "id": "QyW3PWy7Yr9S",
        "outputId": "392a4098-650a-4cac-f6c0-a73d6355a8cc",
        "colab": {
          "base_uri": "https://localhost:8080/"
        }
      },
      "execution_count": 47,
      "outputs": [
        {
          "output_type": "execute_result",
          "data": {
            "text/plain": [
              "0    False\n",
              "1    False\n",
              "2    False\n",
              "3     True\n",
              "4    False\n",
              "dtype: boolean"
            ]
          },
          "metadata": {},
          "execution_count": 47
        }
      ]
    },
    {
      "cell_type": "code",
      "source": [
        "hello_words.str.upper()"
      ],
      "metadata": {
        "trusted": true,
        "id": "rVFIZXeZYr9S",
        "outputId": "da44c711-ebdb-4bc4-b7e5-c05d3ec43d7e",
        "colab": {
          "base_uri": "https://localhost:8080/"
        }
      },
      "execution_count": 48,
      "outputs": [
        {
          "output_type": "execute_result",
          "data": {
            "text/plain": [
              "0       HOLA\n",
              "1      HELLO\n",
              "2     NǏ HǍO\n",
              "3      HALLO\n",
              "4    BONJOUR\n",
              "dtype: string"
            ]
          },
          "metadata": {},
          "execution_count": 48
        }
      ]
    },
    {
      "cell_type": "code",
      "source": [
        "hello_words.str.replace('h', 'j')"
      ],
      "metadata": {
        "trusted": true,
        "id": "ID48hTO7Yr9S",
        "outputId": "61f71d3c-594e-4dc6-8a2f-4f6644475e32",
        "colab": {
          "base_uri": "https://localhost:8080/"
        }
      },
      "execution_count": 49,
      "outputs": [
        {
          "output_type": "execute_result",
          "data": {
            "text/plain": [
              "0       jola\n",
              "1      jello\n",
              "2     nǐ jǎo\n",
              "3      jallo\n",
              "4    bonjour\n",
              "dtype: string"
            ]
          },
          "metadata": {},
          "execution_count": 49
        }
      ]
    },
    {
      "cell_type": "code",
      "source": [
        "hello_words.str[0:3]"
      ],
      "metadata": {
        "trusted": true,
        "id": "7OidPY_5Yr9S",
        "outputId": "7ac053de-5d1e-44c8-a098-4b4cd7d5d480",
        "colab": {
          "base_uri": "https://localhost:8080/"
        }
      },
      "execution_count": 50,
      "outputs": [
        {
          "output_type": "execute_result",
          "data": {
            "text/plain": [
              "0    hol\n",
              "1    hel\n",
              "2    nǐ \n",
              "3    hal\n",
              "4    bon\n",
              "dtype: string"
            ]
          },
          "metadata": {},
          "execution_count": 50
        }
      ]
    },
    {
      "cell_type": "code",
      "source": [
        "hello_words.str[0:4]"
      ],
      "metadata": {
        "trusted": true,
        "id": "X-Na64QXYr9S",
        "outputId": "294b901a-fe2c-461a-b2b5-407f24e5080a",
        "colab": {
          "base_uri": "https://localhost:8080/"
        }
      },
      "execution_count": 51,
      "outputs": [
        {
          "output_type": "execute_result",
          "data": {
            "text/plain": [
              "0    hola\n",
              "1    hell\n",
              "2    nǐ h\n",
              "3    hall\n",
              "4    bonj\n",
              "dtype: string"
            ]
          },
          "metadata": {},
          "execution_count": 51
        }
      ]
    },
    {
      "cell_type": "code",
      "source": [],
      "metadata": {
        "id": "OFRJyNATYr9T"
      },
      "execution_count": 51,
      "outputs": []
    },
    {
      "cell_type": "markdown",
      "source": [
        "## 4. Advanced text manipulation with Pandas\n",
        "### More involved textual analysis oftentimes requires RegEx"
      ],
      "metadata": {
        "id": "Zzeq-pBDYr9T"
      }
    },
    {
      "cell_type": "markdown",
      "source": [
        "### 4.1. Finding text in Pandas DataFrames using regex"
      ],
      "metadata": {
        "id": "i_Y9puJ9Yr9T"
      }
    },
    {
      "cell_type": "code",
      "source": [],
      "metadata": {
        "id": "oCo_-htpYr9T"
      },
      "execution_count": 51,
      "outputs": []
    },
    {
      "cell_type": "code",
      "source": [
        "numbers=pd.Series(['1', '2', '3a', '3b', '03c', '4dx','text'])"
      ],
      "metadata": {
        "trusted": true,
        "id": "hfi-zNhSYr9T"
      },
      "execution_count": 52,
      "outputs": []
    },
    {
      "cell_type": "code",
      "source": [
        "numbers"
      ],
      "metadata": {
        "trusted": true,
        "id": "W3aQZEHTYr9T",
        "outputId": "be31a6bc-8fcd-4e47-8cb8-594fb04a5ba6",
        "colab": {
          "base_uri": "https://localhost:8080/"
        }
      },
      "execution_count": 53,
      "outputs": [
        {
          "output_type": "execute_result",
          "data": {
            "text/plain": [
              "0       1\n",
              "1       2\n",
              "2      3a\n",
              "3      3b\n",
              "4     03c\n",
              "5     4dx\n",
              "6    text\n",
              "dtype: object"
            ]
          },
          "metadata": {},
          "execution_count": 53
        }
      ]
    },
    {
      "cell_type": "code",
      "source": [
        "## numbers is a pandas series object\n",
        "type(numbers)"
      ],
      "metadata": {
        "trusted": true,
        "id": "hcgqwrmzYr9T",
        "outputId": "8f7920a0-1768-4c94-9b53-789751d12df5",
        "colab": {
          "base_uri": "https://localhost:8080/"
        }
      },
      "execution_count": 54,
      "outputs": [
        {
          "output_type": "execute_result",
          "data": {
            "text/plain": [
              "pandas.core.series.Series"
            ]
          },
          "metadata": {},
          "execution_count": 54
        }
      ]
    },
    {
      "cell_type": "code",
      "source": [
        "## This is a regex pattern that looks for strings consisted of digits and letters\n",
        "pattern = r'[0-9][a-z]'"
      ],
      "metadata": {
        "trusted": true,
        "id": "oXjjEfmsYr9T"
      },
      "execution_count": 55,
      "outputs": []
    },
    {
      "cell_type": "code",
      "source": [
        "numbers.str.contains(pattern)"
      ],
      "metadata": {
        "trusted": true,
        "id": "Q-_KPANbYr9T",
        "outputId": "9e70e392-356c-498c-e635-adff3a032b51",
        "colab": {
          "base_uri": "https://localhost:8080/"
        }
      },
      "execution_count": 56,
      "outputs": [
        {
          "output_type": "execute_result",
          "data": {
            "text/plain": [
              "0    False\n",
              "1    False\n",
              "2     True\n",
              "3     True\n",
              "4     True\n",
              "5     True\n",
              "6    False\n",
              "dtype: bool"
            ]
          },
          "metadata": {},
          "execution_count": 56
        }
      ]
    },
    {
      "cell_type": "code",
      "source": [
        "numbers.str.contains('\\d', regex=True)"
      ],
      "metadata": {
        "trusted": true,
        "id": "0yU1DAKBYr9U",
        "outputId": "3eded32b-a5ad-487a-a661-6083e233450d",
        "colab": {
          "base_uri": "https://localhost:8080/"
        }
      },
      "execution_count": 57,
      "outputs": [
        {
          "output_type": "execute_result",
          "data": {
            "text/plain": [
              "0     True\n",
              "1     True\n",
              "2     True\n",
              "3     True\n",
              "4     True\n",
              "5     True\n",
              "6    False\n",
              "dtype: bool"
            ]
          },
          "metadata": {},
          "execution_count": 57
        }
      ]
    },
    {
      "cell_type": "code",
      "source": [
        "numbers.str.contains('\\D', regex=True)"
      ],
      "metadata": {
        "trusted": true,
        "id": "9-rpRoX8Yr9U",
        "outputId": "505692b2-9d7e-44c2-87e9-6da577bc52e0",
        "colab": {
          "base_uri": "https://localhost:8080/"
        }
      },
      "execution_count": 58,
      "outputs": [
        {
          "output_type": "execute_result",
          "data": {
            "text/plain": [
              "0    False\n",
              "1    False\n",
              "2     True\n",
              "3     True\n",
              "4     True\n",
              "5     True\n",
              "6     True\n",
              "dtype: bool"
            ]
          },
          "metadata": {},
          "execution_count": 58
        }
      ]
    },
    {
      "cell_type": "code",
      "source": [
        "long_strings=pd.Series(['This is a really long string','13 Jodie Whittaker', 'John Hurn 12','David Lopez 34','this is a sentence'])"
      ],
      "metadata": {
        "trusted": true,
        "id": "312OjLboYr9U"
      },
      "execution_count": 59,
      "outputs": []
    },
    {
      "cell_type": "code",
      "source": [
        "long_strings"
      ],
      "metadata": {
        "trusted": true,
        "id": "xaNv1pcFYr9U",
        "outputId": "442a680a-aa87-48b4-823a-92cc9855a765",
        "colab": {
          "base_uri": "https://localhost:8080/"
        }
      },
      "execution_count": 60,
      "outputs": [
        {
          "output_type": "execute_result",
          "data": {
            "text/plain": [
              "0    This is a really long string\n",
              "1              13 Jodie Whittaker\n",
              "2                    John Hurn 12\n",
              "3                  David Lopez 34\n",
              "4              this is a sentence\n",
              "dtype: object"
            ]
          },
          "metadata": {},
          "execution_count": 60
        }
      ]
    },
    {
      "cell_type": "code",
      "source": [
        "long_strings.str.contains('\\d', regex=True)"
      ],
      "metadata": {
        "trusted": true,
        "id": "94iiD9wHYr9U",
        "outputId": "e808b322-8d72-4dc9-b64e-c133baea0da7",
        "colab": {
          "base_uri": "https://localhost:8080/"
        }
      },
      "execution_count": 61,
      "outputs": [
        {
          "output_type": "execute_result",
          "data": {
            "text/plain": [
              "0    False\n",
              "1     True\n",
              "2     True\n",
              "3     True\n",
              "4    False\n",
              "dtype: bool"
            ]
          },
          "metadata": {},
          "execution_count": 61
        }
      ]
    },
    {
      "cell_type": "code",
      "source": [],
      "metadata": {
        "id": "qU696u5TYr9U"
      },
      "execution_count": 61,
      "outputs": []
    },
    {
      "cell_type": "markdown",
      "source": [
        "### 4.2 Filtering text in Pandas DataFrames using RegEx"
      ],
      "metadata": {
        "id": "92E9iCgeYr9U"
      }
    },
    {
      "cell_type": "markdown",
      "source": [
        "#### it builds on the previous step, this time we define a filter"
      ],
      "metadata": {
        "id": "OBdw1k1TYr9V"
      }
    },
    {
      "cell_type": "code",
      "source": [
        "long_strings=pd.Series(['This is a really long string','13 Jodie Whittaker', 'John Hurn 12','David Lopez 34','this is a sentence with no digits in it'])"
      ],
      "metadata": {
        "trusted": true,
        "id": "MPPk-xUeYr9V"
      },
      "execution_count": 62,
      "outputs": []
    },
    {
      "cell_type": "code",
      "source": [
        "long_strings"
      ],
      "metadata": {
        "trusted": true,
        "id": "ZT7P7lg2Yr9V",
        "outputId": "b0620b1e-0974-4b26-e621-7e9b1364b33c",
        "colab": {
          "base_uri": "https://localhost:8080/"
        }
      },
      "execution_count": 63,
      "outputs": [
        {
          "output_type": "execute_result",
          "data": {
            "text/plain": [
              "0               This is a really long string\n",
              "1                         13 Jodie Whittaker\n",
              "2                               John Hurn 12\n",
              "3                             David Lopez 34\n",
              "4    this is a sentence with no digits in it\n",
              "dtype: object"
            ]
          },
          "metadata": {},
          "execution_count": 63
        }
      ]
    },
    {
      "cell_type": "code",
      "source": [
        "digit_filter=long_strings.str.contains('\\d', regex=True)"
      ],
      "metadata": {
        "trusted": true,
        "id": "j5ggDSFQYr9V"
      },
      "execution_count": 64,
      "outputs": []
    },
    {
      "cell_type": "code",
      "source": [
        "long_strings[digit_filter]"
      ],
      "metadata": {
        "trusted": true,
        "id": "pMwrzn0oYr9V",
        "outputId": "c073be0c-50ea-4e32-e8b8-303ffde8e560",
        "colab": {
          "base_uri": "https://localhost:8080/"
        }
      },
      "execution_count": 65,
      "outputs": [
        {
          "output_type": "execute_result",
          "data": {
            "text/plain": [
              "1    13 Jodie Whittaker\n",
              "2          John Hurn 12\n",
              "3        David Lopez 34\n",
              "dtype: object"
            ]
          },
          "metadata": {},
          "execution_count": 65
        }
      ]
    },
    {
      "cell_type": "code",
      "source": [],
      "metadata": {
        "id": "amYnuXmTYr9V"
      },
      "execution_count": 65,
      "outputs": []
    },
    {
      "cell_type": "code",
      "source": [
        "twitter_users=pd.Series(['this is a user called @dlpopez','@foouser is from London','@obama is the former president of the USA','@merkel is stepping down','regular user','anotheruser is not interested','@trump is considering his options'])"
      ],
      "metadata": {
        "trusted": true,
        "id": "Tg1pJfUHYr9V"
      },
      "execution_count": 66,
      "outputs": []
    },
    {
      "cell_type": "code",
      "source": [
        "twitter_users"
      ],
      "metadata": {
        "trusted": true,
        "id": "8kbDhknFYr9V",
        "outputId": "798a4c12-1e45-48f7-b330-b9beb00ff872",
        "colab": {
          "base_uri": "https://localhost:8080/"
        }
      },
      "execution_count": 67,
      "outputs": [
        {
          "output_type": "execute_result",
          "data": {
            "text/plain": [
              "0               this is a user called @dlpopez\n",
              "1                      @foouser is from London\n",
              "2    @obama is the former president of the USA\n",
              "3                     @merkel is stepping down\n",
              "4                                 regular user\n",
              "5                anotheruser is not interested\n",
              "6            @trump is considering his options\n",
              "dtype: object"
            ]
          },
          "metadata": {},
          "execution_count": 67
        }
      ]
    },
    {
      "cell_type": "markdown",
      "source": [
        "#### 4.2.1 Filter definition"
      ],
      "metadata": {
        "id": "jxo-fAKfYr9V"
      }
    },
    {
      "cell_type": "code",
      "source": [
        "\n",
        "twitter_filter=twitter_users.str.contains('@([A-Za-z0-9_]+)', regex=True)"
      ],
      "metadata": {
        "trusted": true,
        "id": "1gjvb-VsYr9V"
      },
      "execution_count": 68,
      "outputs": []
    },
    {
      "cell_type": "markdown",
      "source": [
        "#### 4.2.2 Filter application"
      ],
      "metadata": {
        "id": "CsIh6hUlYr9W"
      }
    },
    {
      "cell_type": "code",
      "source": [
        "twitter_users[twitter_filter]"
      ],
      "metadata": {
        "trusted": true,
        "id": "yp6v2iM_Yr9W",
        "outputId": "55e51ab6-5689-4a51-e481-5d8e85763e83",
        "colab": {
          "base_uri": "https://localhost:8080/"
        }
      },
      "execution_count": 69,
      "outputs": [
        {
          "output_type": "execute_result",
          "data": {
            "text/plain": [
              "0               this is a user called @dlpopez\n",
              "1                      @foouser is from London\n",
              "2    @obama is the former president of the USA\n",
              "3                     @merkel is stepping down\n",
              "6            @trump is considering his options\n",
              "dtype: object"
            ]
          },
          "metadata": {},
          "execution_count": 69
        }
      ]
    },
    {
      "cell_type": "code",
      "source": [],
      "metadata": {
        "id": "wFz74WWWYr9W"
      },
      "execution_count": 69,
      "outputs": []
    },
    {
      "cell_type": "markdown",
      "source": [
        "### 4.3 Extracting text in Pandas DataFrames using RegEx"
      ],
      "metadata": {
        "id": "ivXYwLVPYr9W"
      }
    },
    {
      "cell_type": "code",
      "source": [
        "pd.options.display.max_colwidth = 100\n",
        "twitterConversations=pd.Series(['Hi there, this is a twitter conversation about #climatechange','I totally agree, climate change is an important issue','the President @obama is in #nigeria','We must praise what @merkel has done for #Germany','the stockmarket is down due to #covid19','this is a twitter conversation involving #hashtag1 and #hashtag2'])"
      ],
      "metadata": {
        "trusted": true,
        "id": "7DrrGwrJYr9W"
      },
      "execution_count": 70,
      "outputs": []
    },
    {
      "cell_type": "code",
      "source": [
        "twitterConversations"
      ],
      "metadata": {
        "trusted": true,
        "id": "Jp_rl2bJYr9W",
        "outputId": "3cf8b427-541c-4366-a19f-8c95b0745b0d",
        "colab": {
          "base_uri": "https://localhost:8080/"
        }
      },
      "execution_count": 71,
      "outputs": [
        {
          "output_type": "execute_result",
          "data": {
            "text/plain": [
              "0       Hi there, this is a twitter conversation about #climatechange\n",
              "1               I totally agree, climate change is an important issue\n",
              "2                                 the President @obama is in #nigeria\n",
              "3                   We must praise what @merkel has done for #Germany\n",
              "4                             the stockmarket is down due to #covid19\n",
              "5    this is a twitter conversation involving #hashtag1 and #hashtag2\n",
              "dtype: object"
            ]
          },
          "metadata": {},
          "execution_count": 71
        }
      ]
    },
    {
      "cell_type": "code",
      "source": [],
      "metadata": {
        "id": "kSaOV42wYr9W"
      },
      "execution_count": 71,
      "outputs": []
    },
    {
      "cell_type": "code",
      "source": [
        "twitterConversations.str.extract(r'#([A-Za-z0-9_]+)', expand=False)"
      ],
      "metadata": {
        "trusted": true,
        "id": "kFxaFI36Yr9W",
        "outputId": "926118e0-7886-49a7-dc08-53e017c54e76",
        "colab": {
          "base_uri": "https://localhost:8080/"
        }
      },
      "execution_count": 72,
      "outputs": [
        {
          "output_type": "execute_result",
          "data": {
            "text/plain": [
              "0    climatechange\n",
              "1              NaN\n",
              "2          nigeria\n",
              "3          Germany\n",
              "4          covid19\n",
              "5         hashtag1\n",
              "dtype: object"
            ]
          },
          "metadata": {},
          "execution_count": 72
        }
      ]
    },
    {
      "cell_type": "markdown",
      "source": [],
      "metadata": {
        "id": "GhDrqBnYYr9W"
      }
    },
    {
      "cell_type": "code",
      "source": [],
      "metadata": {
        "id": "9r2XcwGPYr9W"
      },
      "execution_count": 72,
      "outputs": []
    },
    {
      "cell_type": "code",
      "source": [
        "twitterConversations.str.findall(r'#.*?(?=\\s|$)')"
      ],
      "metadata": {
        "trusted": true,
        "id": "NYDZEAi7Yr9W",
        "outputId": "07939bef-6fe0-4016-a03f-e17c38dd7f8c",
        "colab": {
          "base_uri": "https://localhost:8080/"
        }
      },
      "execution_count": 73,
      "outputs": [
        {
          "output_type": "execute_result",
          "data": {
            "text/plain": [
              "0          [#climatechange]\n",
              "1                        []\n",
              "2                [#nigeria]\n",
              "3                [#Germany]\n",
              "4                [#covid19]\n",
              "5    [#hashtag1, #hashtag2]\n",
              "dtype: object"
            ]
          },
          "metadata": {},
          "execution_count": 73
        }
      ]
    },
    {
      "cell_type": "code",
      "source": [],
      "metadata": {
        "id": "doM5neciYr9X"
      },
      "execution_count": 73,
      "outputs": []
    },
    {
      "cell_type": "code",
      "source": [],
      "metadata": {
        "id": "6UFu7bA4Yr9X"
      },
      "execution_count": 73,
      "outputs": []
    }
  ]
}